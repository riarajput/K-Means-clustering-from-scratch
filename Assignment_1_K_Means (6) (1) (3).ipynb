{
  "nbformat": 4,
  "nbformat_minor": 0,
  "metadata": {
    "colab": {
      "name": "Assignment-1_K-Means.ipynb",
      "provenance": []
    },
    "kernelspec": {
      "name": "python3",
      "display_name": "Python 3"
    }
  },
  "cells": [
    {
      "cell_type": "markdown",
      "metadata": {
        "id": "U-_4eF7XReuO",
        "colab_type": "text"
      },
      "source": [
        "### **PROBLEM** **STATEMENT** \n",
        "\n",
        "To implement a basic k means clustering algorithm, ideally as a set of functions. Run it on any dataset and provide a simple visualization of its results. Please write code in Python on a Jupyter notebook.\n"
      ]
    },
    {
      "cell_type": "markdown",
      "metadata": {
        "id": "zfdjrRWKFQLf",
        "colab_type": "text"
      },
      "source": [
        "### **K**-**Means** **Algorithm** **from** **Scratch** **in** **Python**\n",
        "\n",
        "\n",
        "k-means clustering is a method of vector quantization, originally from signal processing, that aims to partition n observations into k clusters in which each observation belongs to the cluster with the nearest mean, serving as a prototype of the cluster.\n",
        "\n",
        "**Steps** **involved** **in** **K** **means** **clustering** **algorithm** **are** **as** **follows** :\n",
        "\n",
        "- Set values of 'K' according to what you feel is appropriate.\n",
        "- Choose at random 'K' data points as \"centroids\"\n",
        "- For each datapoint 'e' in the dataset, measure the euclidean distance to the centroid and assign it to the nearest centroid.\n",
        "- Recalculate the centroids as the mean of each cluster\n",
        "- Reassign data points to new centroids\n",
        "- If centroids no longer change, stop the reassignment as the convergence has been attained.\n",
        "\n"
      ]
    },
    {
      "cell_type": "markdown",
      "metadata": {
        "id": "kwUFTPh4Ia-z",
        "colab_type": "text"
      },
      "source": [
        "**DATASET** **CHOSEN** : **CUSTOMER** **SEGMENTATION** **DATASET** (**Malls_Customers**)\n",
        "\n",
        "This dataset contains information about people visiting the mall and has the following attributes : \n",
        "\n",
        "1. Customer ID\n",
        "2. Gender\n",
        "3. Age\n",
        "4. Annual Income (k$)\n",
        "5. Spending Score (1-100)\n",
        "\n"
      ]
    },
    {
      "cell_type": "markdown",
      "metadata": {
        "id": "TI-ChYZvo0eu",
        "colab_type": "text"
      },
      "source": [
        "**WHAT** **IS** **CUSTOMER** **SEGMENTATION**? \n",
        "\n",
        "Customer segmentation is the process of dividing customers into groups based on common characteristics so companies can market to each group effectively and appropriately. In business-to-business marketing, a company might segment customers according to a wide range of factors, including: Industry."
      ]
    },
    {
      "cell_type": "code",
      "metadata": {
        "id": "UloaBTEJFsoF",
        "colab_type": "code",
        "colab": {}
      },
      "source": [
        "#import libraries\n",
        "import numpy as np # library for scientific computing (managing array computations) \n",
        "import matplotlib.pyplot as plt # plotting library usually used for visualizations\n",
        "import pandas as pd # library for data manipulation and analysis\n",
        "import random as rd # built in module to generate random numbers\n",
        "import seaborn as sns # library for statistical data visualization\n",
        "from sklearn.preprocessing import StandardScaler # module to standardize features in a dataset"
      ],
      "execution_count": 2852,
      "outputs": []
    },
    {
      "cell_type": "code",
      "metadata": {
        "id": "B1MqOaMdJlnj",
        "colab_type": "code",
        "colab": {}
      },
      "source": [
        "# Reading the data on which analysis needs to be done\n",
        "\n",
        "df = pd.read_csv('/content/drive/My Drive/Mall_Customers 3.csv')\n"
      ],
      "execution_count": 2853,
      "outputs": []
    },
    {
      "cell_type": "markdown",
      "metadata": {
        "id": "PU_YKvEF8m3d",
        "colab_type": "text"
      },
      "source": [
        "### **EXPLORATORY** **DATA** **ANALYSIS**"
      ]
    },
    {
      "cell_type": "code",
      "metadata": {
        "id": "BQ36urZCJxgm",
        "colab_type": "code",
        "colab": {
          "base_uri": "https://localhost:8080/",
          "height": 204
        },
        "outputId": "f84e7098-8f4e-41b3-af53-36d1a5866b10"
      },
      "source": [
        "df.head() "
      ],
      "execution_count": 2854,
      "outputs": [
        {
          "output_type": "execute_result",
          "data": {
            "text/html": [
              "<div>\n",
              "<style scoped>\n",
              "    .dataframe tbody tr th:only-of-type {\n",
              "        vertical-align: middle;\n",
              "    }\n",
              "\n",
              "    .dataframe tbody tr th {\n",
              "        vertical-align: top;\n",
              "    }\n",
              "\n",
              "    .dataframe thead th {\n",
              "        text-align: right;\n",
              "    }\n",
              "</style>\n",
              "<table border=\"1\" class=\"dataframe\">\n",
              "  <thead>\n",
              "    <tr style=\"text-align: right;\">\n",
              "      <th></th>\n",
              "      <th>CustomerID</th>\n",
              "      <th>Gender</th>\n",
              "      <th>Age</th>\n",
              "      <th>Annual Income (k$)</th>\n",
              "      <th>Spending Score (1-100)</th>\n",
              "    </tr>\n",
              "  </thead>\n",
              "  <tbody>\n",
              "    <tr>\n",
              "      <th>0</th>\n",
              "      <td>1</td>\n",
              "      <td>Male</td>\n",
              "      <td>19</td>\n",
              "      <td>15</td>\n",
              "      <td>39</td>\n",
              "    </tr>\n",
              "    <tr>\n",
              "      <th>1</th>\n",
              "      <td>2</td>\n",
              "      <td>Male</td>\n",
              "      <td>21</td>\n",
              "      <td>15</td>\n",
              "      <td>81</td>\n",
              "    </tr>\n",
              "    <tr>\n",
              "      <th>2</th>\n",
              "      <td>3</td>\n",
              "      <td>Female</td>\n",
              "      <td>20</td>\n",
              "      <td>16</td>\n",
              "      <td>6</td>\n",
              "    </tr>\n",
              "    <tr>\n",
              "      <th>3</th>\n",
              "      <td>4</td>\n",
              "      <td>Female</td>\n",
              "      <td>23</td>\n",
              "      <td>16</td>\n",
              "      <td>77</td>\n",
              "    </tr>\n",
              "    <tr>\n",
              "      <th>4</th>\n",
              "      <td>5</td>\n",
              "      <td>Female</td>\n",
              "      <td>31</td>\n",
              "      <td>17</td>\n",
              "      <td>40</td>\n",
              "    </tr>\n",
              "  </tbody>\n",
              "</table>\n",
              "</div>"
            ],
            "text/plain": [
              "   CustomerID  Gender  Age  Annual Income (k$)  Spending Score (1-100)\n",
              "0           1    Male   19                  15                      39\n",
              "1           2    Male   21                  15                      81\n",
              "2           3  Female   20                  16                       6\n",
              "3           4  Female   23                  16                      77\n",
              "4           5  Female   31                  17                      40"
            ]
          },
          "metadata": {
            "tags": []
          },
          "execution_count": 2854
        }
      ]
    },
    {
      "cell_type": "markdown",
      "metadata": {
        "id": "s3yVZ07OBGM7",
        "colab_type": "text"
      },
      "source": [
        "**NOTE** : The above command gives the first 5 records by default and highlights all the columns in a dataset."
      ]
    },
    {
      "cell_type": "code",
      "metadata": {
        "id": "zjm3sxD0ts7w",
        "colab_type": "code",
        "colab": {
          "base_uri": "https://localhost:8080/",
          "height": 34
        },
        "outputId": "ee768858-a947-4f7f-8be8-f4261732f127"
      },
      "source": [
        "df.shape"
      ],
      "execution_count": 2855,
      "outputs": [
        {
          "output_type": "execute_result",
          "data": {
            "text/plain": [
              "(200, 5)"
            ]
          },
          "metadata": {
            "tags": []
          },
          "execution_count": 2855
        }
      ]
    },
    {
      "cell_type": "markdown",
      "metadata": {
        "id": "1lVp3U4ZBaSm",
        "colab_type": "text"
      },
      "source": [
        "**NOTE** : The dataset consists of 200 rows and 5 columns."
      ]
    },
    {
      "cell_type": "code",
      "metadata": {
        "id": "f69u8rGVJ0lC",
        "colab_type": "code",
        "colab": {
          "base_uri": "https://localhost:8080/",
          "height": 68
        },
        "outputId": "3ec17ba7-b670-42bb-e67a-2c5c96b7f445"
      },
      "source": [
        "df.columns"
      ],
      "execution_count": 2856,
      "outputs": [
        {
          "output_type": "execute_result",
          "data": {
            "text/plain": [
              "Index(['CustomerID', 'Gender', 'Age', 'Annual Income (k$)',\n",
              "       'Spending Score (1-100)'],\n",
              "      dtype='object')"
            ]
          },
          "metadata": {
            "tags": []
          },
          "execution_count": 2856
        }
      ]
    },
    {
      "cell_type": "markdown",
      "metadata": {
        "id": "ZEYdYFj6CEy3",
        "colab_type": "text"
      },
      "source": [
        "**NOTE** : The above command highlights all the columns in the dataset with the exact nomenclature."
      ]
    },
    {
      "cell_type": "code",
      "metadata": {
        "id": "3ICdooTI_92a",
        "colab_type": "code",
        "colab": {
          "base_uri": "https://localhost:8080/",
          "height": 119
        },
        "outputId": "9c6c7de4-5926-4ae3-d389-a27ad8a7a01a"
      },
      "source": [
        "df.dtypes"
      ],
      "execution_count": 2857,
      "outputs": [
        {
          "output_type": "execute_result",
          "data": {
            "text/plain": [
              "CustomerID                 int64\n",
              "Gender                    object\n",
              "Age                        int64\n",
              "Annual Income (k$)         int64\n",
              "Spending Score (1-100)     int64\n",
              "dtype: object"
            ]
          },
          "metadata": {
            "tags": []
          },
          "execution_count": 2857
        }
      ]
    },
    {
      "cell_type": "markdown",
      "metadata": {
        "id": "Ps5xsuMECqcP",
        "colab_type": "text"
      },
      "source": [
        "**NOTE** : With the dtypes command, all the attributes of the dataset are highlighted with their exact nomenclature."
      ]
    },
    {
      "cell_type": "code",
      "metadata": {
        "id": "52L6GkC1MPZE",
        "colab_type": "code",
        "colab": {
          "base_uri": "https://localhost:8080/",
          "height": 221
        },
        "outputId": "a95e0fd1-34ed-45bb-f812-45f178a3629e"
      },
      "source": [
        "df.info()"
      ],
      "execution_count": 2858,
      "outputs": [
        {
          "output_type": "stream",
          "text": [
            "<class 'pandas.core.frame.DataFrame'>\n",
            "RangeIndex: 200 entries, 0 to 199\n",
            "Data columns (total 5 columns):\n",
            " #   Column                  Non-Null Count  Dtype \n",
            "---  ------                  --------------  ----- \n",
            " 0   CustomerID              200 non-null    int64 \n",
            " 1   Gender                  200 non-null    object\n",
            " 2   Age                     200 non-null    int64 \n",
            " 3   Annual Income (k$)      200 non-null    int64 \n",
            " 4   Spending Score (1-100)  200 non-null    int64 \n",
            "dtypes: int64(4), object(1)\n",
            "memory usage: 7.9+ KB\n"
          ],
          "name": "stdout"
        }
      ]
    },
    {
      "cell_type": "markdown",
      "metadata": {
        "id": "6s1ADxEvZwxV",
        "colab_type": "text"
      },
      "source": [
        "**NOTE** : The above command gives the information of different features of all the attributes present in the dataset."
      ]
    },
    {
      "cell_type": "code",
      "metadata": {
        "id": "ukttYTj4LiXy",
        "colab_type": "code",
        "colab": {
          "base_uri": "https://localhost:8080/",
          "height": 366
        },
        "outputId": "d991de4f-a408-49d2-96bb-7c90053f78a5"
      },
      "source": [
        "df.hist()"
      ],
      "execution_count": 2859,
      "outputs": [
        {
          "output_type": "execute_result",
          "data": {
            "text/plain": [
              "array([[<matplotlib.axes._subplots.AxesSubplot object at 0x7fde9fb5d978>,\n",
              "        <matplotlib.axes._subplots.AxesSubplot object at 0x7fde9faa3fd0>],\n",
              "       [<matplotlib.axes._subplots.AxesSubplot object at 0x7fde9fa5c390>,\n",
              "        <matplotlib.axes._subplots.AxesSubplot object at 0x7fde9fa08710>]],\n",
              "      dtype=object)"
            ]
          },
          "metadata": {
            "tags": []
          },
          "execution_count": 2859
        },
        {
          "output_type": "display_data",
          "data": {
            "image/png": "[encoded data removed]",
            "text/plain": [
              "<Figure size 432x288 with 4 Axes>"
            ]
          },
          "metadata": {
            "tags": [],
            "needs_background": "light"
          }
        }
      ]
    },
    {
      "cell_type": "markdown",
      "metadata": {
        "id": "lupoTdtSLsmS",
        "colab_type": "text"
      },
      "source": [
        "**NOTE** : Since the 'Gender' column is not an integer value, the histogram is not created for it when we try to run the command df.hist()."
      ]
    },
    {
      "cell_type": "code",
      "metadata": {
        "id": "Cn7xcUQyMcJx",
        "colab_type": "code",
        "colab": {
          "base_uri": "https://localhost:8080/",
          "height": 282
        },
        "outputId": "6c45603f-3701-4890-8294-99da3d92ddcc"
      },
      "source": [
        "# Plotting the histogram just for the 'Gender' column\n",
        "\n",
        "df['Gender'].hist()"
      ],
      "execution_count": 2860,
      "outputs": [
        {
          "output_type": "execute_result",
          "data": {
            "text/plain": [
              "<matplotlib.axes._subplots.AxesSubplot at 0x7fde9f9e7518>"
            ]
          },
          "metadata": {
            "tags": []
          },
          "execution_count": 2860
        },
        {
          "output_type": "display_data",
          "data": {
            "image/png": "[encoded data removed]",
            "text/plain": [
              "<Figure size 432x288 with 1 Axes>"
            ]
          },
          "metadata": {
            "tags": [],
            "needs_background": "light"
          }
        }
      ]
    },
    {
      "cell_type": "markdown",
      "metadata": {
        "id": "eeJeuKRTMuO7",
        "colab_type": "text"
      },
      "source": [
        "**NOTE** : One can see that the number of females is greater than the number of males."
      ]
    },
    {
      "cell_type": "code",
      "metadata": {
        "id": "SV8M3IWFg19N",
        "colab_type": "code",
        "colab": {
          "base_uri": "https://localhost:8080/",
          "height": 68
        },
        "outputId": "80cdb34d-7f3e-425a-c70b-72559f44cb74"
      },
      "source": [
        "df.Gender.value_counts()"
      ],
      "execution_count": 2861,
      "outputs": [
        {
          "output_type": "execute_result",
          "data": {
            "text/plain": [
              "Female    112\n",
              "Male       88\n",
              "Name: Gender, dtype: int64"
            ]
          },
          "metadata": {
            "tags": []
          },
          "execution_count": 2861
        }
      ]
    },
    {
      "cell_type": "markdown",
      "metadata": {
        "id": "fFzM6qA-hmNH",
        "colab_type": "text"
      },
      "source": [
        "**NOTE** : The above command shows the exact distribution of the male and the female population in the dataset. \n",
        "\n",
        "One can see that the number of females in the dataset = 112 and the number of males in the dataset = 88."
      ]
    },
    {
      "cell_type": "code",
      "metadata": {
        "id": "WejzDJeNhRUF",
        "colab_type": "code",
        "colab": {
          "base_uri": "https://localhost:8080/",
          "height": 295
        },
        "outputId": "c60414a9-240d-4b67-ac0b-364696c03371"
      },
      "source": [
        "# Groupby Gender visualization\n",
        "\n",
        "sns.countplot(x='Gender', data=df)\n",
        "plt.title('Customer gender density')\n",
        "plt.show()"
      ],
      "execution_count": 2862,
      "outputs": [
        {
          "output_type": "display_data",
          "data": {
            "image/png": "[encoded data removed]",
            "text/plain": [
              "<Figure size 432x288 with 1 Axes>"
            ]
          },
          "metadata": {
            "tags": [],
            "needs_background": "light"
          }
        }
      ]
    },
    {
      "cell_type": "markdown",
      "metadata": {
        "id": "fcwBVSEEjZqx",
        "colab_type": "text"
      },
      "source": [
        "Just a gender density plot for proper visualization purposes."
      ]
    },
    {
      "cell_type": "markdown",
      "metadata": {
        "id": "-TruqINQ_EzG",
        "colab_type": "text"
      },
      "source": [
        "###**DATA** **PREPROCESSING**"
      ]
    },
    {
      "cell_type": "markdown",
      "metadata": {
        "id": "bHn6muFQ8x--",
        "colab_type": "text"
      },
      "source": [
        "**NOTE** : As one can observe from the names of the individual columns, columns such as 'Annual Income (k$)' and 'Spending Score (1-100)' have spaces in their names which can create problems further computations hence replacing their names with 'Annual_Income' and 'Spending_Score' is extremely important."
      ]
    },
    {
      "cell_type": "code",
      "metadata": {
        "id": "5GC8ljGyMfYR",
        "colab_type": "code",
        "colab": {}
      },
      "source": [
        "# Renaming the column names\n",
        "df.rename(columns={'Annual Income (k$)':'Annual_Income','Spending Score (1-100)':'Spending_Score'},inplace=True)"
      ],
      "execution_count": 2863,
      "outputs": []
    },
    {
      "cell_type": "code",
      "metadata": {
        "id": "irg9_Y93RW5P",
        "colab_type": "code",
        "colab": {
          "base_uri": "https://localhost:8080/",
          "height": 34
        },
        "outputId": "c3e183bd-84cc-4e89-e449-3ce26018b255"
      },
      "source": [
        "df.columns"
      ],
      "execution_count": 2864,
      "outputs": [
        {
          "output_type": "execute_result",
          "data": {
            "text/plain": [
              "Index(['CustomerID', 'Gender', 'Age', 'Annual_Income', 'Spending_Score'], dtype='object')"
            ]
          },
          "metadata": {
            "tags": []
          },
          "execution_count": 2864
        }
      ]
    },
    {
      "cell_type": "markdown",
      "metadata": {
        "id": "giDwa7tgjiKu",
        "colab_type": "text"
      },
      "source": [
        "**NOTE** : Hence the columns have been renamed from 'Annual Income (k$)' to 'Annual_Income' and 'Spending Score (1-100)' to 'Spending_Score'."
      ]
    },
    {
      "cell_type": "markdown",
      "metadata": {
        "id": "OhLgIu2rg8lY",
        "colab_type": "text"
      },
      "source": [
        "####K means Clustering algorithm has key assumptions about the data:\n",
        "\n",
        "####1. Data is not skewed\n",
        "####2. Features have the same mean\n",
        "####3. Features have the same variance\n",
        "\n",
        "####Hence analysing the dataset for the same."
      ]
    },
    {
      "cell_type": "code",
      "metadata": {
        "id": "eJNUAG0oQOsJ",
        "colab_type": "code",
        "colab": {
          "base_uri": "https://localhost:8080/",
          "height": 297
        },
        "outputId": "2e79dbae-216c-4a8d-d8b9-a77bd204cff3"
      },
      "source": [
        "df.describe()"
      ],
      "execution_count": 2865,
      "outputs": [
        {
          "output_type": "execute_result",
          "data": {
            "text/html": [
              "<div>\n",
              "<style scoped>\n",
              "    .dataframe tbody tr th:only-of-type {\n",
              "        vertical-align: middle;\n",
              "    }\n",
              "\n",
              "    .dataframe tbody tr th {\n",
              "        vertical-align: top;\n",
              "    }\n",
              "\n",
              "    .dataframe thead th {\n",
              "        text-align: right;\n",
              "    }\n",
              "</style>\n",
              "<table border=\"1\" class=\"dataframe\">\n",
              "  <thead>\n",
              "    <tr style=\"text-align: right;\">\n",
              "      <th></th>\n",
              "      <th>CustomerID</th>\n",
              "      <th>Age</th>\n",
              "      <th>Annual_Income</th>\n",
              "      <th>Spending_Score</th>\n",
              "    </tr>\n",
              "  </thead>\n",
              "  <tbody>\n",
              "    <tr>\n",
              "      <th>count</th>\n",
              "      <td>200.000000</td>\n",
              "      <td>200.000000</td>\n",
              "      <td>200.000000</td>\n",
              "      <td>200.000000</td>\n",
              "    </tr>\n",
              "    <tr>\n",
              "      <th>mean</th>\n",
              "      <td>100.500000</td>\n",
              "      <td>38.850000</td>\n",
              "      <td>60.560000</td>\n",
              "      <td>50.200000</td>\n",
              "    </tr>\n",
              "    <tr>\n",
              "      <th>std</th>\n",
              "      <td>57.879185</td>\n",
              "      <td>13.969007</td>\n",
              "      <td>26.264721</td>\n",
              "      <td>25.823522</td>\n",
              "    </tr>\n",
              "    <tr>\n",
              "      <th>min</th>\n",
              "      <td>1.000000</td>\n",
              "      <td>18.000000</td>\n",
              "      <td>15.000000</td>\n",
              "      <td>1.000000</td>\n",
              "    </tr>\n",
              "    <tr>\n",
              "      <th>25%</th>\n",
              "      <td>50.750000</td>\n",
              "      <td>28.750000</td>\n",
              "      <td>41.500000</td>\n",
              "      <td>34.750000</td>\n",
              "    </tr>\n",
              "    <tr>\n",
              "      <th>50%</th>\n",
              "      <td>100.500000</td>\n",
              "      <td>36.000000</td>\n",
              "      <td>61.500000</td>\n",
              "      <td>50.000000</td>\n",
              "    </tr>\n",
              "    <tr>\n",
              "      <th>75%</th>\n",
              "      <td>150.250000</td>\n",
              "      <td>49.000000</td>\n",
              "      <td>78.000000</td>\n",
              "      <td>73.000000</td>\n",
              "    </tr>\n",
              "    <tr>\n",
              "      <th>max</th>\n",
              "      <td>200.000000</td>\n",
              "      <td>70.000000</td>\n",
              "      <td>137.000000</td>\n",
              "      <td>99.000000</td>\n",
              "    </tr>\n",
              "  </tbody>\n",
              "</table>\n",
              "</div>"
            ],
            "text/plain": [
              "       CustomerID         Age  Annual_Income  Spending_Score\n",
              "count  200.000000  200.000000     200.000000      200.000000\n",
              "mean   100.500000   38.850000      60.560000       50.200000\n",
              "std     57.879185   13.969007      26.264721       25.823522\n",
              "min      1.000000   18.000000      15.000000        1.000000\n",
              "25%     50.750000   28.750000      41.500000       34.750000\n",
              "50%    100.500000   36.000000      61.500000       50.000000\n",
              "75%    150.250000   49.000000      78.000000       73.000000\n",
              "max    200.000000   70.000000     137.000000       99.000000"
            ]
          },
          "metadata": {
            "tags": []
          },
          "execution_count": 2865
        }
      ]
    },
    {
      "cell_type": "code",
      "metadata": {
        "id": "nbKYUt8pQOuD",
        "colab_type": "code",
        "colab": {
          "base_uri": "https://localhost:8080/",
          "height": 173
        },
        "outputId": "5e0e3209-3dae-434d-95ba-0809882974b2"
      },
      "source": [
        "df.corr()"
      ],
      "execution_count": 2866,
      "outputs": [
        {
          "output_type": "execute_result",
          "data": {
            "text/html": [
              "<div>\n",
              "<style scoped>\n",
              "    .dataframe tbody tr th:only-of-type {\n",
              "        vertical-align: middle;\n",
              "    }\n",
              "\n",
              "    .dataframe tbody tr th {\n",
              "        vertical-align: top;\n",
              "    }\n",
              "\n",
              "    .dataframe thead th {\n",
              "        text-align: right;\n",
              "    }\n",
              "</style>\n",
              "<table border=\"1\" class=\"dataframe\">\n",
              "  <thead>\n",
              "    <tr style=\"text-align: right;\">\n",
              "      <th></th>\n",
              "      <th>CustomerID</th>\n",
              "      <th>Age</th>\n",
              "      <th>Annual_Income</th>\n",
              "      <th>Spending_Score</th>\n",
              "    </tr>\n",
              "  </thead>\n",
              "  <tbody>\n",
              "    <tr>\n",
              "      <th>CustomerID</th>\n",
              "      <td>1.000000</td>\n",
              "      <td>-0.026763</td>\n",
              "      <td>0.977548</td>\n",
              "      <td>0.013835</td>\n",
              "    </tr>\n",
              "    <tr>\n",
              "      <th>Age</th>\n",
              "      <td>-0.026763</td>\n",
              "      <td>1.000000</td>\n",
              "      <td>-0.012398</td>\n",
              "      <td>-0.327227</td>\n",
              "    </tr>\n",
              "    <tr>\n",
              "      <th>Annual_Income</th>\n",
              "      <td>0.977548</td>\n",
              "      <td>-0.012398</td>\n",
              "      <td>1.000000</td>\n",
              "      <td>0.009903</td>\n",
              "    </tr>\n",
              "    <tr>\n",
              "      <th>Spending_Score</th>\n",
              "      <td>0.013835</td>\n",
              "      <td>-0.327227</td>\n",
              "      <td>0.009903</td>\n",
              "      <td>1.000000</td>\n",
              "    </tr>\n",
              "  </tbody>\n",
              "</table>\n",
              "</div>"
            ],
            "text/plain": [
              "                CustomerID       Age  Annual_Income  Spending_Score\n",
              "CustomerID        1.000000 -0.026763       0.977548        0.013835\n",
              "Age              -0.026763  1.000000      -0.012398       -0.327227\n",
              "Annual_Income     0.977548 -0.012398       1.000000        0.009903\n",
              "Spending_Score    0.013835 -0.327227       0.009903        1.000000"
            ]
          },
          "metadata": {
            "tags": []
          },
          "execution_count": 2866
        }
      ]
    },
    {
      "cell_type": "markdown",
      "metadata": {
        "id": "bWbKzYLEQpHf",
        "colab_type": "text"
      },
      "source": [
        "**NOTE** : We will only consider \"**Annual_Income**\" and \"**Spending_Score**\" columns for further processing for the ease of calculation, data processing and **visualization**."
      ]
    },
    {
      "cell_type": "code",
      "metadata": {
        "id": "D_7HlGD_BLbL",
        "colab_type": "code",
        "colab": {
          "base_uri": "https://localhost:8080/",
          "height": 170
        },
        "outputId": "d70e29f0-5730-4a81-8ce6-e165aaf5e188"
      },
      "source": [
        "df['Annual_Income'].describe()"
      ],
      "execution_count": 2867,
      "outputs": [
        {
          "output_type": "execute_result",
          "data": {
            "text/plain": [
              "count    200.000000\n",
              "mean      60.560000\n",
              "std       26.264721\n",
              "min       15.000000\n",
              "25%       41.500000\n",
              "50%       61.500000\n",
              "75%       78.000000\n",
              "max      137.000000\n",
              "Name: Annual_Income, dtype: float64"
            ]
          },
          "metadata": {
            "tags": []
          },
          "execution_count": 2867
        }
      ]
    },
    {
      "cell_type": "code",
      "metadata": {
        "id": "IXlb3CqNBQyj",
        "colab_type": "code",
        "colab": {
          "base_uri": "https://localhost:8080/",
          "height": 170
        },
        "outputId": "97a69190-917a-4375-bec4-6a9493aa2309"
      },
      "source": [
        "df['Spending_Score'].describe()"
      ],
      "execution_count": 2868,
      "outputs": [
        {
          "output_type": "execute_result",
          "data": {
            "text/plain": [
              "count    200.000000\n",
              "mean      50.200000\n",
              "std       25.823522\n",
              "min        1.000000\n",
              "25%       34.750000\n",
              "50%       50.000000\n",
              "75%       73.000000\n",
              "max       99.000000\n",
              "Name: Spending_Score, dtype: float64"
            ]
          },
          "metadata": {
            "tags": []
          },
          "execution_count": 2868
        }
      ]
    },
    {
      "cell_type": "markdown",
      "metadata": {
        "id": "UI2Uy4BRj5ft",
        "colab_type": "text"
      },
      "source": [
        "**NOTE** : One can observe from the above description of the two attributes that is \"Annual_Income\" and \"Spending_Score\" that the mean value of both the attributes is different and hence needs to be Standardized in order to successfully complete the prerequisites of the K-means algorithm."
      ]
    },
    {
      "cell_type": "markdown",
      "metadata": {
        "id": "Gi4ZKGo7AyxF",
        "colab_type": "text"
      },
      "source": [
        "###**Are** **the** **data** **dimensions** **skewed**?"
      ]
    },
    {
      "cell_type": "markdown",
      "metadata": {
        "id": "_iJaUVv_m6gF",
        "colab_type": "text"
      },
      "source": [
        "What do you mean by skweness of data?\n",
        "\n",
        "**Skewness** refers to distortion or asymmetry in a symmetrical bell curve, or normal distribution, in a set of data. If the curve is shifted to the left or to the right, it is said to be skewed. Skewness can be quantified as a representation of the extent to which a given distribution varies from a normal distribution.\n",
        "\n",
        "**Positive** **Skewness** : Positive Skewness means when the tail on the right side of the distribution is longer or fatter. The mean and median will be greater than the mode.\n",
        "\n",
        "**Negative** **Skewness** :  Negative Skewness is when the tail of the left side of the distribution is longer or fatter than the tail on the right side. The mean and median will be less than the mode."
      ]
    },
    {
      "cell_type": "code",
      "metadata": {
        "id": "qYqpRqI1A8Y-",
        "colab_type": "code",
        "colab": {
          "base_uri": "https://localhost:8080/",
          "height": 297
        },
        "outputId": "145f2735-ef13-4808-8729-7f7d01e5e11c"
      },
      "source": [
        "sns.distplot(df['Annual_Income'])"
      ],
      "execution_count": 2869,
      "outputs": [
        {
          "output_type": "execute_result",
          "data": {
            "text/plain": [
              "<matplotlib.axes._subplots.AxesSubplot at 0x7fde9f8993c8>"
            ]
          },
          "metadata": {
            "tags": []
          },
          "execution_count": 2869
        },
        {
          "output_type": "display_data",
          "data": {
            "image/png": "[encoded data removed]",
            "text/plain": [
              "<Figure size 432x288 with 1 Axes>"
            ]
          },
          "metadata": {
            "tags": [],
            "needs_background": "light"
          }
        }
      ]
    },
    {
      "cell_type": "code",
      "metadata": {
        "id": "_2BywmcdBNSU",
        "colab_type": "code",
        "colab": {
          "base_uri": "https://localhost:8080/",
          "height": 301
        },
        "outputId": "d08eb640-ff9c-41eb-ea38-3ee05f6d5190"
      },
      "source": [
        "sns.distplot(df['Spending_Score'])"
      ],
      "execution_count": 2870,
      "outputs": [
        {
          "output_type": "execute_result",
          "data": {
            "text/plain": [
              "<matplotlib.axes._subplots.AxesSubplot at 0x7fde9f834390>"
            ]
          },
          "metadata": {
            "tags": []
          },
          "execution_count": 2870
        },
        {
          "output_type": "display_data",
          "data": {
            "image/png": "[encoded data removed]",
            "text/plain": [
              "<Figure size 432x288 with 1 Axes>"
            ]
          },
          "metadata": {
            "tags": [],
            "needs_background": "light"
          }
        }
      ]
    },
    {
      "cell_type": "markdown",
      "metadata": {
        "id": "cZ3xYGcCUMZb",
        "colab_type": "text"
      },
      "source": [
        "**NOTE** : Looks like the data is not too bad over the two attributes. The data is not severely skewed over the two attributes hence there is no need to apply log transformation in order to handle the skewness of the data. One can check the performance of K-means with the same data."
      ]
    },
    {
      "cell_type": "code",
      "metadata": {
        "id": "pVb79tidURwX",
        "colab_type": "code",
        "colab": {
          "base_uri": "https://localhost:8080/",
          "height": 119
        },
        "outputId": "f23bb2c5-55af-4d4e-b79d-42bea7f68b16"
      },
      "source": [
        "# Checking for null values\n",
        "df.isnull().sum()"
      ],
      "execution_count": 2871,
      "outputs": [
        {
          "output_type": "execute_result",
          "data": {
            "text/plain": [
              "CustomerID        0\n",
              "Gender            0\n",
              "Age               0\n",
              "Annual_Income     0\n",
              "Spending_Score    0\n",
              "dtype: int64"
            ]
          },
          "metadata": {
            "tags": []
          },
          "execution_count": 2871
        }
      ]
    },
    {
      "cell_type": "markdown",
      "metadata": {
        "id": "aA47nKlmJ2-r",
        "colab_type": "text"
      },
      "source": [
        "**NOTE** : As such there are no null values in the dataset hence there is no requirement of handling them."
      ]
    },
    {
      "cell_type": "code",
      "metadata": {
        "id": "ZvG03ylsIydk",
        "colab_type": "code",
        "colab": {
          "base_uri": "https://localhost:8080/",
          "height": 510
        },
        "outputId": "838f2dc4-18c5-4259-d1e2-96f3f1f67e6c"
      },
      "source": [
        "df['Gender'].values"
      ],
      "execution_count": 2872,
      "outputs": [
        {
          "output_type": "execute_result",
          "data": {
            "text/plain": [
              "array(['Male', 'Male', 'Female', 'Female', 'Female', 'Female', 'Female',\n",
              "       'Female', 'Male', 'Female', 'Male', 'Female', 'Female', 'Female',\n",
              "       'Male', 'Male', 'Female', 'Male', 'Male', 'Female', 'Male', 'Male',\n",
              "       'Female', 'Male', 'Female', 'Male', 'Female', 'Male', 'Female',\n",
              "       'Female', 'Male', 'Female', 'Male', 'Male', 'Female', 'Female',\n",
              "       'Female', 'Female', 'Female', 'Female', 'Female', 'Male', 'Male',\n",
              "       'Female', 'Female', 'Female', 'Female', 'Female', 'Female',\n",
              "       'Female', 'Female', 'Male', 'Female', 'Male', 'Female', 'Male',\n",
              "       'Female', 'Male', 'Female', 'Male', 'Male', 'Male', 'Female',\n",
              "       'Female', 'Male', 'Male', 'Female', 'Female', 'Male', 'Female',\n",
              "       'Male', 'Female', 'Female', 'Female', 'Male', 'Male', 'Female',\n",
              "       'Male', 'Female', 'Female', 'Male', 'Male', 'Male', 'Female',\n",
              "       'Female', 'Male', 'Female', 'Female', 'Female', 'Female', 'Female',\n",
              "       'Male', 'Male', 'Female', 'Female', 'Male', 'Female', 'Female',\n",
              "       'Male', 'Male', 'Female', 'Female', 'Male', 'Male', 'Male',\n",
              "       'Female', 'Female', 'Male', 'Male', 'Male', 'Male', 'Female',\n",
              "       'Female', 'Male', 'Female', 'Female', 'Female', 'Female', 'Female',\n",
              "       'Female', 'Male', 'Female', 'Female', 'Male', 'Female', 'Female',\n",
              "       'Male', 'Male', 'Male', 'Male', 'Male', 'Male', 'Female', 'Female',\n",
              "       'Male', 'Female', 'Female', 'Male', 'Male', 'Female', 'Female',\n",
              "       'Male', 'Female', 'Female', 'Male', 'Male', 'Male', 'Female',\n",
              "       'Female', 'Male', 'Male', 'Male', 'Female', 'Female', 'Female',\n",
              "       'Female', 'Male', 'Female', 'Male', 'Female', 'Female', 'Female',\n",
              "       'Male', 'Female', 'Male', 'Female', 'Male', 'Female', 'Female',\n",
              "       'Male', 'Male', 'Male', 'Male', 'Male', 'Female', 'Female', 'Male',\n",
              "       'Male', 'Male', 'Male', 'Female', 'Female', 'Male', 'Female',\n",
              "       'Female', 'Male', 'Female', 'Male', 'Female', 'Female', 'Female',\n",
              "       'Female', 'Male', 'Female', 'Female', 'Female', 'Female', 'Male',\n",
              "       'Male', 'Male'], dtype=object)"
            ]
          },
          "metadata": {
            "tags": []
          },
          "execution_count": 2872
        }
      ]
    },
    {
      "cell_type": "markdown",
      "metadata": {
        "id": "Yg7ZGhFeuXbk",
        "colab_type": "text"
      },
      "source": [
        "**NOTE** : Since the 'Gender' column of the dataset is a categorical column, one can replace those values with proper numerical values for the different categories present in the attribute, such as 'Male' can be replaced with '1' while 'Female' can be replaced by '2'.\n",
        "\n",
        "Also this conversion will make it easier to scale all the attributes over the dataset using the StandardScaler method of the scikit learn library as it takes only one type of data inputs and since there are two types of inputs present in the dataset i.e. numerical and string type hence one of the datatype needs to be changed."
      ]
    },
    {
      "cell_type": "code",
      "metadata": {
        "id": "uBGe3upJJrCL",
        "colab_type": "code",
        "colab": {}
      },
      "source": [
        "# replacing the gender column values with numerical type values\n",
        "df['Gender'] = df['Gender'].replace([\"Male\",\"Female\"],[\"1\",\"2\"])"
      ],
      "execution_count": 2873,
      "outputs": []
    },
    {
      "cell_type": "code",
      "metadata": {
        "id": "_uuCHicHJrLu",
        "colab_type": "code",
        "colab": {
          "base_uri": "https://localhost:8080/",
          "height": 289
        },
        "outputId": "f37d129d-317d-40c1-9508-9e34088bf3cb"
      },
      "source": [
        "df['Gender'].values"
      ],
      "execution_count": 2874,
      "outputs": [
        {
          "output_type": "execute_result",
          "data": {
            "text/plain": [
              "array(['1', '1', '2', '2', '2', '2', '2', '2', '1', '2', '1', '2', '2',\n",
              "       '2', '1', '1', '2', '1', '1', '2', '1', '1', '2', '1', '2', '1',\n",
              "       '2', '1', '2', '2', '1', '2', '1', '1', '2', '2', '2', '2', '2',\n",
              "       '2', '2', '1', '1', '2', '2', '2', '2', '2', '2', '2', '2', '1',\n",
              "       '2', '1', '2', '1', '2', '1', '2', '1', '1', '1', '2', '2', '1',\n",
              "       '1', '2', '2', '1', '2', '1', '2', '2', '2', '1', '1', '2', '1',\n",
              "       '2', '2', '1', '1', '1', '2', '2', '1', '2', '2', '2', '2', '2',\n",
              "       '1', '1', '2', '2', '1', '2', '2', '1', '1', '2', '2', '1', '1',\n",
              "       '1', '2', '2', '1', '1', '1', '1', '2', '2', '1', '2', '2', '2',\n",
              "       '2', '2', '2', '1', '2', '2', '1', '2', '2', '1', '1', '1', '1',\n",
              "       '1', '1', '2', '2', '1', '2', '2', '1', '1', '2', '2', '1', '2',\n",
              "       '2', '1', '1', '1', '2', '2', '1', '1', '1', '2', '2', '2', '2',\n",
              "       '1', '2', '1', '2', '2', '2', '1', '2', '1', '2', '1', '2', '2',\n",
              "       '1', '1', '1', '1', '1', '2', '2', '1', '1', '1', '1', '2', '2',\n",
              "       '1', '2', '2', '1', '2', '1', '2', '2', '2', '2', '1', '2', '2',\n",
              "       '2', '2', '1', '1', '1'], dtype=object)"
            ]
          },
          "metadata": {
            "tags": []
          },
          "execution_count": 2874
        }
      ]
    },
    {
      "cell_type": "markdown",
      "metadata": {
        "id": "a2iekpxIxXIc",
        "colab_type": "text"
      },
      "source": [
        "**NOTE** : Looks like the values have been replaced."
      ]
    },
    {
      "cell_type": "code",
      "metadata": {
        "id": "wpARnL0nRSZn",
        "colab_type": "code",
        "colab": {
          "base_uri": "https://localhost:8080/",
          "height": 669
        },
        "outputId": "8d44353c-70d2-4e71-c86a-9fdd0b498740"
      },
      "source": [
        "df.head(20)"
      ],
      "execution_count": 2875,
      "outputs": [
        {
          "output_type": "execute_result",
          "data": {
            "text/html": [
              "<div>\n",
              "<style scoped>\n",
              "    .dataframe tbody tr th:only-of-type {\n",
              "        vertical-align: middle;\n",
              "    }\n",
              "\n",
              "    .dataframe tbody tr th {\n",
              "        vertical-align: top;\n",
              "    }\n",
              "\n",
              "    .dataframe thead th {\n",
              "        text-align: right;\n",
              "    }\n",
              "</style>\n",
              "<table border=\"1\" class=\"dataframe\">\n",
              "  <thead>\n",
              "    <tr style=\"text-align: right;\">\n",
              "      <th></th>\n",
              "      <th>CustomerID</th>\n",
              "      <th>Gender</th>\n",
              "      <th>Age</th>\n",
              "      <th>Annual_Income</th>\n",
              "      <th>Spending_Score</th>\n",
              "    </tr>\n",
              "  </thead>\n",
              "  <tbody>\n",
              "    <tr>\n",
              "      <th>0</th>\n",
              "      <td>1</td>\n",
              "      <td>1</td>\n",
              "      <td>19</td>\n",
              "      <td>15</td>\n",
              "      <td>39</td>\n",
              "    </tr>\n",
              "    <tr>\n",
              "      <th>1</th>\n",
              "      <td>2</td>\n",
              "      <td>1</td>\n",
              "      <td>21</td>\n",
              "      <td>15</td>\n",
              "      <td>81</td>\n",
              "    </tr>\n",
              "    <tr>\n",
              "      <th>2</th>\n",
              "      <td>3</td>\n",
              "      <td>2</td>\n",
              "      <td>20</td>\n",
              "      <td>16</td>\n",
              "      <td>6</td>\n",
              "    </tr>\n",
              "    <tr>\n",
              "      <th>3</th>\n",
              "      <td>4</td>\n",
              "      <td>2</td>\n",
              "      <td>23</td>\n",
              "      <td>16</td>\n",
              "      <td>77</td>\n",
              "    </tr>\n",
              "    <tr>\n",
              "      <th>4</th>\n",
              "      <td>5</td>\n",
              "      <td>2</td>\n",
              "      <td>31</td>\n",
              "      <td>17</td>\n",
              "      <td>40</td>\n",
              "    </tr>\n",
              "    <tr>\n",
              "      <th>5</th>\n",
              "      <td>6</td>\n",
              "      <td>2</td>\n",
              "      <td>22</td>\n",
              "      <td>17</td>\n",
              "      <td>76</td>\n",
              "    </tr>\n",
              "    <tr>\n",
              "      <th>6</th>\n",
              "      <td>7</td>\n",
              "      <td>2</td>\n",
              "      <td>35</td>\n",
              "      <td>18</td>\n",
              "      <td>6</td>\n",
              "    </tr>\n",
              "    <tr>\n",
              "      <th>7</th>\n",
              "      <td>8</td>\n",
              "      <td>2</td>\n",
              "      <td>23</td>\n",
              "      <td>18</td>\n",
              "      <td>94</td>\n",
              "    </tr>\n",
              "    <tr>\n",
              "      <th>8</th>\n",
              "      <td>9</td>\n",
              "      <td>1</td>\n",
              "      <td>64</td>\n",
              "      <td>19</td>\n",
              "      <td>3</td>\n",
              "    </tr>\n",
              "    <tr>\n",
              "      <th>9</th>\n",
              "      <td>10</td>\n",
              "      <td>2</td>\n",
              "      <td>30</td>\n",
              "      <td>19</td>\n",
              "      <td>72</td>\n",
              "    </tr>\n",
              "    <tr>\n",
              "      <th>10</th>\n",
              "      <td>11</td>\n",
              "      <td>1</td>\n",
              "      <td>67</td>\n",
              "      <td>19</td>\n",
              "      <td>14</td>\n",
              "    </tr>\n",
              "    <tr>\n",
              "      <th>11</th>\n",
              "      <td>12</td>\n",
              "      <td>2</td>\n",
              "      <td>35</td>\n",
              "      <td>19</td>\n",
              "      <td>99</td>\n",
              "    </tr>\n",
              "    <tr>\n",
              "      <th>12</th>\n",
              "      <td>13</td>\n",
              "      <td>2</td>\n",
              "      <td>58</td>\n",
              "      <td>20</td>\n",
              "      <td>15</td>\n",
              "    </tr>\n",
              "    <tr>\n",
              "      <th>13</th>\n",
              "      <td>14</td>\n",
              "      <td>2</td>\n",
              "      <td>24</td>\n",
              "      <td>20</td>\n",
              "      <td>77</td>\n",
              "    </tr>\n",
              "    <tr>\n",
              "      <th>14</th>\n",
              "      <td>15</td>\n",
              "      <td>1</td>\n",
              "      <td>37</td>\n",
              "      <td>20</td>\n",
              "      <td>13</td>\n",
              "    </tr>\n",
              "    <tr>\n",
              "      <th>15</th>\n",
              "      <td>16</td>\n",
              "      <td>1</td>\n",
              "      <td>22</td>\n",
              "      <td>20</td>\n",
              "      <td>79</td>\n",
              "    </tr>\n",
              "    <tr>\n",
              "      <th>16</th>\n",
              "      <td>17</td>\n",
              "      <td>2</td>\n",
              "      <td>35</td>\n",
              "      <td>21</td>\n",
              "      <td>35</td>\n",
              "    </tr>\n",
              "    <tr>\n",
              "      <th>17</th>\n",
              "      <td>18</td>\n",
              "      <td>1</td>\n",
              "      <td>20</td>\n",
              "      <td>21</td>\n",
              "      <td>66</td>\n",
              "    </tr>\n",
              "    <tr>\n",
              "      <th>18</th>\n",
              "      <td>19</td>\n",
              "      <td>1</td>\n",
              "      <td>52</td>\n",
              "      <td>23</td>\n",
              "      <td>29</td>\n",
              "    </tr>\n",
              "    <tr>\n",
              "      <th>19</th>\n",
              "      <td>20</td>\n",
              "      <td>2</td>\n",
              "      <td>35</td>\n",
              "      <td>23</td>\n",
              "      <td>98</td>\n",
              "    </tr>\n",
              "  </tbody>\n",
              "</table>\n",
              "</div>"
            ],
            "text/plain": [
              "    CustomerID Gender  Age  Annual_Income  Spending_Score\n",
              "0            1      1   19             15              39\n",
              "1            2      1   21             15              81\n",
              "2            3      2   20             16               6\n",
              "3            4      2   23             16              77\n",
              "4            5      2   31             17              40\n",
              "5            6      2   22             17              76\n",
              "6            7      2   35             18               6\n",
              "7            8      2   23             18              94\n",
              "8            9      1   64             19               3\n",
              "9           10      2   30             19              72\n",
              "10          11      1   67             19              14\n",
              "11          12      2   35             19              99\n",
              "12          13      2   58             20              15\n",
              "13          14      2   24             20              77\n",
              "14          15      1   37             20              13\n",
              "15          16      1   22             20              79\n",
              "16          17      2   35             21              35\n",
              "17          18      1   20             21              66\n",
              "18          19      1   52             23              29\n",
              "19          20      2   35             23              98"
            ]
          },
          "metadata": {
            "tags": []
          },
          "execution_count": 2875
        }
      ]
    },
    {
      "cell_type": "markdown",
      "metadata": {
        "id": "HIM4km5lGyzz",
        "colab_type": "text"
      },
      "source": [
        "**StandardScaler** **method** **in** **order** **to** **have** **the** **same** **mean** **and** **variance** **for** **all** **the** **attributes** **as** **the** **dataframe** **is** **the** **same** **all** **over**."
      ]
    },
    {
      "cell_type": "markdown",
      "metadata": {
        "id": "f9tFJ9zkxrwJ",
        "colab_type": "text"
      },
      "source": [
        "**I** **will** **be** **applying** **the** **StandardScaler** **method** **in** **order** **to** **scale** **all** **the** **attributes** **of** **the** **dataset** **evenly** **so** **that** **they** **have** **equal** **mean** **and** **variance** **for** **the** **successful** **satisfaction** **of** **K**-**means** **prerequisites**."
      ]
    },
    {
      "cell_type": "code",
      "metadata": {
        "id": "Gvb2nFbpJL0J",
        "colab_type": "code",
        "colab": {
          "base_uri": "https://localhost:8080/",
          "height": 297
        },
        "outputId": "87b3b27a-a310-4dd1-ce38-4cbba4963e36"
      },
      "source": [
        "scaler = StandardScaler()\n",
        "scaler.fit(df)\n",
        "df1 = pd.DataFrame(scaler.transform(df))\n",
        "df1.columns = df.columns\n",
        "df1.describe()"
      ],
      "execution_count": 2876,
      "outputs": [
        {
          "output_type": "execute_result",
          "data": {
            "text/html": [
              "<div>\n",
              "<style scoped>\n",
              "    .dataframe tbody tr th:only-of-type {\n",
              "        vertical-align: middle;\n",
              "    }\n",
              "\n",
              "    .dataframe tbody tr th {\n",
              "        vertical-align: top;\n",
              "    }\n",
              "\n",
              "    .dataframe thead th {\n",
              "        text-align: right;\n",
              "    }\n",
              "</style>\n",
              "<table border=\"1\" class=\"dataframe\">\n",
              "  <thead>\n",
              "    <tr style=\"text-align: right;\">\n",
              "      <th></th>\n",
              "      <th>CustomerID</th>\n",
              "      <th>Gender</th>\n",
              "      <th>Age</th>\n",
              "      <th>Annual_Income</th>\n",
              "      <th>Spending_Score</th>\n",
              "    </tr>\n",
              "  </thead>\n",
              "  <tbody>\n",
              "    <tr>\n",
              "      <th>count</th>\n",
              "      <td>2.000000e+02</td>\n",
              "      <td>2.000000e+02</td>\n",
              "      <td>2.000000e+02</td>\n",
              "      <td>2.000000e+02</td>\n",
              "      <td>2.000000e+02</td>\n",
              "    </tr>\n",
              "    <tr>\n",
              "      <th>mean</th>\n",
              "      <td>-6.661338e-18</td>\n",
              "      <td>-8.437695e-17</td>\n",
              "      <td>-9.603429e-17</td>\n",
              "      <td>-6.128431e-16</td>\n",
              "      <td>-1.121325e-16</td>\n",
              "    </tr>\n",
              "    <tr>\n",
              "      <th>std</th>\n",
              "      <td>1.002509e+00</td>\n",
              "      <td>1.002509e+00</td>\n",
              "      <td>1.002509e+00</td>\n",
              "      <td>1.002509e+00</td>\n",
              "      <td>1.002509e+00</td>\n",
              "    </tr>\n",
              "    <tr>\n",
              "      <th>min</th>\n",
              "      <td>-1.723412e+00</td>\n",
              "      <td>-1.128152e+00</td>\n",
              "      <td>-1.496335e+00</td>\n",
              "      <td>-1.738999e+00</td>\n",
              "      <td>-1.910021e+00</td>\n",
              "    </tr>\n",
              "    <tr>\n",
              "      <th>25%</th>\n",
              "      <td>-8.617060e-01</td>\n",
              "      <td>-1.128152e+00</td>\n",
              "      <td>-7.248436e-01</td>\n",
              "      <td>-7.275093e-01</td>\n",
              "      <td>-5.997931e-01</td>\n",
              "    </tr>\n",
              "    <tr>\n",
              "      <th>50%</th>\n",
              "      <td>0.000000e+00</td>\n",
              "      <td>8.864053e-01</td>\n",
              "      <td>-2.045351e-01</td>\n",
              "      <td>3.587926e-02</td>\n",
              "      <td>-7.764312e-03</td>\n",
              "    </tr>\n",
              "    <tr>\n",
              "      <th>75%</th>\n",
              "      <td>8.617060e-01</td>\n",
              "      <td>8.864053e-01</td>\n",
              "      <td>7.284319e-01</td>\n",
              "      <td>6.656748e-01</td>\n",
              "      <td>8.851316e-01</td>\n",
              "    </tr>\n",
              "    <tr>\n",
              "      <th>max</th>\n",
              "      <td>1.723412e+00</td>\n",
              "      <td>8.864053e-01</td>\n",
              "      <td>2.235532e+00</td>\n",
              "      <td>2.917671e+00</td>\n",
              "      <td>1.894492e+00</td>\n",
              "    </tr>\n",
              "  </tbody>\n",
              "</table>\n",
              "</div>"
            ],
            "text/plain": [
              "         CustomerID        Gender           Age  Annual_Income  Spending_Score\n",
              "count  2.000000e+02  2.000000e+02  2.000000e+02   2.000000e+02    2.000000e+02\n",
              "mean  -6.661338e-18 -8.437695e-17 -9.603429e-17  -6.128431e-16   -1.121325e-16\n",
              "std    1.002509e+00  1.002509e+00  1.002509e+00   1.002509e+00    1.002509e+00\n",
              "min   -1.723412e+00 -1.128152e+00 -1.496335e+00  -1.738999e+00   -1.910021e+00\n",
              "25%   -8.617060e-01 -1.128152e+00 -7.248436e-01  -7.275093e-01   -5.997931e-01\n",
              "50%    0.000000e+00  8.864053e-01 -2.045351e-01   3.587926e-02   -7.764312e-03\n",
              "75%    8.617060e-01  8.864053e-01  7.284319e-01   6.656748e-01    8.851316e-01\n",
              "max    1.723412e+00  8.864053e-01  2.235532e+00   2.917671e+00    1.894492e+00"
            ]
          },
          "metadata": {
            "tags": []
          },
          "execution_count": 2876
        }
      ]
    },
    {
      "cell_type": "markdown",
      "metadata": {
        "id": "u25hr5muG-V0",
        "colab_type": "text"
      },
      "source": [
        "#### **Applying** **binning** **for** **better** **visualizations** **and** **in** **order** **to** **reduce** **the** **effect** **of** **minor** **observation** **errors**."
      ]
    },
    {
      "cell_type": "markdown",
      "metadata": {
        "id": "C8KdOwqkGEDX",
        "colab_type": "text"
      },
      "source": [
        "Currently assigning 5 bins in total."
      ]
    },
    {
      "cell_type": "code",
      "metadata": {
        "id": "sJgj7JpdHWTr",
        "colab_type": "code",
        "colab": {}
      },
      "source": [
        "df1['Annual_Income'] = pd.qcut(df1['Annual_Income'], 5)"
      ],
      "execution_count": 2877,
      "outputs": []
    },
    {
      "cell_type": "code",
      "metadata": {
        "id": "Rvseulf_ILRs",
        "colab_type": "code",
        "colab": {
          "base_uri": "https://localhost:8080/",
          "height": 297
        },
        "outputId": "3333521c-cd2c-435c-91c0-2ddf769da217"
      },
      "source": [
        "sns.countplot(x='Annual_Income', hue='Gender', data=df1)"
      ],
      "execution_count": 2878,
      "outputs": [
        {
          "output_type": "execute_result",
          "data": {
            "text/plain": [
              "<matplotlib.axes._subplots.AxesSubplot at 0x7fde9f73eef0>"
            ]
          },
          "metadata": {
            "tags": []
          },
          "execution_count": 2878
        },
        {
          "output_type": "display_data",
          "data": {
            "image/png": "[encoded data removed]",
            "text/plain": [
              "<Figure size 432x288 with 1 Axes>"
            ]
          },
          "metadata": {
            "tags": [],
            "needs_background": "light"
          }
        }
      ]
    },
    {
      "cell_type": "code",
      "metadata": {
        "id": "ADUdKQ_GLDI9",
        "colab_type": "code",
        "colab": {}
      },
      "source": [
        "df1['Spending_Score'] = pd.qcut(df1['Spending_Score'], 5)"
      ],
      "execution_count": 2879,
      "outputs": []
    },
    {
      "cell_type": "code",
      "metadata": {
        "id": "Df6q7lFeLVMs",
        "colab_type": "code",
        "colab": {
          "base_uri": "https://localhost:8080/",
          "height": 297
        },
        "outputId": "b8d2145d-f56b-4eb7-9e70-daed56c519b3"
      },
      "source": [
        "sns.countplot(x='Spending_Score', hue='Gender', data=df1)"
      ],
      "execution_count": 2880,
      "outputs": [
        {
          "output_type": "execute_result",
          "data": {
            "text/plain": [
              "<matplotlib.axes._subplots.AxesSubplot at 0x7fde9f786dd8>"
            ]
          },
          "metadata": {
            "tags": []
          },
          "execution_count": 2880
        },
        {
          "output_type": "display_data",
          "data": {
            "image/png": "[encoded data removed]",
            "text/plain": [
              "<Figure size 432x288 with 1 Axes>"
            ]
          },
          "metadata": {
            "tags": [],
            "needs_background": "light"
          }
        }
      ]
    },
    {
      "cell_type": "markdown",
      "metadata": {
        "id": "GlBNejb9B65y",
        "colab_type": "text"
      },
      "source": [
        "### **MODEL** **BUILDING**"
      ]
    },
    {
      "cell_type": "markdown",
      "metadata": {
        "id": "nQFaB75Z0bDC",
        "colab_type": "text"
      },
      "source": [
        "Considering only **Annual_Income** and **Spending_Score** as the data in order to get better visualizations, we will define our matrix in the following manner."
      ]
    },
    {
      "cell_type": "code",
      "metadata": {
        "id": "WevgI0IUeoX6",
        "colab_type": "code",
        "colab": {}
      },
      "source": [
        "X = df.iloc[:,[3,4]].values"
      ],
      "execution_count": 2881,
      "outputs": []
    },
    {
      "cell_type": "markdown",
      "metadata": {
        "id": "_rh-bp4lEDf1",
        "colab_type": "text"
      },
      "source": [
        "**NOTE** : Since the 'Annual_income' and 'Spending_score' lie on the 3rd and the 4th index position in the dataset, I have inputted 3 and 4 as the positions in the iloc function as the total number of columns in the dataset is equal to 5 and the index values starts from '0' in pandas."
      ]
    },
    {
      "cell_type": "code",
      "metadata": {
        "id": "YSuOuSJKgd32",
        "colab_type": "code",
        "colab": {
          "base_uri": "https://localhost:8080/",
          "height": 34
        },
        "outputId": "72bb7758-e989-482b-d93a-19782acae6ba"
      },
      "source": [
        "X.shape"
      ],
      "execution_count": 2882,
      "outputs": [
        {
          "output_type": "execute_result",
          "data": {
            "text/plain": [
              "(200, 2)"
            ]
          },
          "metadata": {
            "tags": []
          },
          "execution_count": 2882
        }
      ]
    },
    {
      "cell_type": "markdown",
      "metadata": {
        "id": "UcTGEK6sGW-M",
        "colab_type": "text"
      },
      "source": [
        "**NOTE** : The matrix is of shape 200X2 where there are 200 rows and 2 columns."
      ]
    },
    {
      "cell_type": "code",
      "metadata": {
        "id": "_x--IruQggIX",
        "colab_type": "code",
        "colab": {}
      },
      "source": [
        "m=X.shape[0] #Number of records\n",
        "n=X.shape[1] #Number of features"
      ],
      "execution_count": 2883,
      "outputs": []
    },
    {
      "cell_type": "markdown",
      "metadata": {
        "id": "R1VJshAcg7JA",
        "colab_type": "text"
      },
      "source": [
        "To implement k means algorithm from scratch using python as a set of functions"
      ]
    },
    {
      "cell_type": "code",
      "metadata": {
        "id": "cNdM1dligyme",
        "colab_type": "code",
        "colab": {}
      },
      "source": [
        "import numpy as np\n",
        "import random as rd\n",
        "\n",
        "class Kmeans:\n",
        "    def __init__(self,X,K):\n",
        "        self.X=X\n",
        "        self.Output={}\n",
        "        self.Centroids=np.array([]).reshape(self.X.shape[1],0)\n",
        "        self.K=K\n",
        "        self.m=self.X.shape[0]\n",
        "        \n",
        "    def kmeanspp(self,X,K): # This function is used to handle random initialization\n",
        "        i=rd.randint(0,X.shape[0])\n",
        "        Centroid_temp=np.array([X[i]])\n",
        "        for k in range(1,K):\n",
        "            D=np.array([]) \n",
        "            for x in X:\n",
        "                D=np.append(D,np.min(np.sum((x-Centroid_temp)**2)))\n",
        "            prob=D/np.sum(D)\n",
        "            cummulative_prob=np.cumsum(prob)\n",
        "            r=rd.random()\n",
        "            i=0\n",
        "            for j,p in enumerate(cummulative_prob):\n",
        "                if r<p:\n",
        "                    i=j\n",
        "                    break\n",
        "            Centroid_temp=np.append(Centroid_temp,[X[i]],axis=0)\n",
        "        return Centroid_temp.T\n",
        "    \n",
        "    def fit(self,n_iter):\n",
        "        #randomly Initialize the centroids\n",
        "        self.Centroids=self.kmeanspp(self.X,self.K)\n",
        "        \n",
        "        \"\"\"for i in range(self.K):\n",
        "            rand=rd.randint(0,self.m-1)\n",
        "            self.Centroids=np.c_[self.Centroids,self.X[rand]]\"\"\"\n",
        "        \n",
        "        #compute euclidian distances and assign clusters\n",
        "        for n in range(n_iter):\n",
        "            EuclidianDistance=np.array([]).reshape(self.m,0)\n",
        "            for k in range(self.K):\n",
        "                tempDist=np.sum((self.X-self.Centroids[:,k])**2,axis=1)\n",
        "                EuclidianDistance=np.c_[EuclidianDistance,tempDist]\n",
        "            C=np.argmin(EuclidianDistance,axis=1)+1\n",
        "            #adjust the centroids\n",
        "            Y={}\n",
        "            for k in range(self.K):\n",
        "                Y[k+1]=np.array([]).reshape(2,0)\n",
        "            for i in range(self.m):\n",
        "                Y[C[i]]=np.c_[Y[C[i]],self.X[i]]\n",
        "        \n",
        "            for k in range(self.K):\n",
        "                Y[k+1]=Y[k+1].T\n",
        "            for k in range(self.K):\n",
        "                self.Centroids[:,k]=np.mean(Y[k+1],axis=0)\n",
        "                \n",
        "            self.Output=Y\n",
        "            \n",
        "    \n",
        "    def predict(self):\n",
        "        return self.Output,self.Centroids.T\n",
        "    \n",
        "    def WCSS(self):\n",
        "        wcss=0\n",
        "        for k in range(self.K):\n",
        "            wcss+=np.sum((self.Output[k+1]-self.Centroids[:,k])**2)\n",
        "        return wcss\n",
        "\n",
        "\n"
      ],
      "execution_count": 2884,
      "outputs": []
    },
    {
      "cell_type": "code",
      "metadata": {
        "id": "vBpNNVpJ03fJ",
        "colab_type": "code",
        "colab": {
          "base_uri": "https://localhost:8080/",
          "height": 296
        },
        "outputId": "155681cd-8504-41ab-f3a2-abfde050c954"
      },
      "source": [
        "# Plot of the unclustered data\n",
        "\n",
        "plt.scatter(X[:,0],X[:,1],c='black',label='unclustered data')\n",
        "plt.xlabel('Annual_Income')\n",
        "plt.ylabel('Spending_Score')\n",
        "plt.legend()\n",
        "plt.title('Plot of data points')\n",
        "plt.show()"
      ],
      "execution_count": 2885,
      "outputs": [
        {
          "output_type": "display_data",
          "data": {
            "image/png": "[encoded data removed]",
            "text/plain": [
              "<Figure size 432x288 with 1 Axes>"
            ]
          },
          "metadata": {
            "tags": [],
            "needs_background": "light"
          }
        }
      ]
    },
    {
      "cell_type": "code",
      "metadata": {
        "id": "QTOn1wUEuCGE",
        "colab_type": "code",
        "colab": {}
      },
      "source": [
        "n_iter = 100 # Setting the number of iterations as 100"
      ],
      "execution_count": 2886,
      "outputs": []
    },
    {
      "cell_type": "code",
      "metadata": {
        "id": "oS7N1Q0Wxrj0",
        "colab_type": "code",
        "colab": {}
      },
      "source": [
        "# Considering 5 clusters arbitarily\n",
        "\n",
        "K=5"
      ],
      "execution_count": 2887,
      "outputs": []
    },
    {
      "cell_type": "code",
      "metadata": {
        "id": "mjk4Mhuq7xrl",
        "colab_type": "code",
        "colab": {}
      },
      "source": [
        "kmeans=Kmeans(X,K)\n",
        "kmeans.fit(n_iter)\n",
        "Output,Centroids=kmeans.predict()"
      ],
      "execution_count": 2888,
      "outputs": []
    },
    {
      "cell_type": "code",
      "metadata": {
        "id": "V9NWHn2N75Qt",
        "colab_type": "code",
        "colab": {
          "base_uri": "https://localhost:8080/",
          "height": 296
        },
        "outputId": "84d55e93-4dd6-494a-d080-0cc75d01fcaf"
      },
      "source": [
        "color=['purple','orange','blue','red','green']\n",
        "labels=['cluster1','cluster2','cluster3','cluster4','cluster5']\n",
        "for k in range(K):\n",
        "    plt.scatter(Output[k+1][:,0],Output[k+1][:,1],c=color[k],label=labels[k])\n",
        "plt.scatter(Centroids[:,0],Centroids[:,1],s=300,c='yellow',label='Centroids')\n",
        "plt.title('Clusters of customers')\n",
        "plt.xlabel('Annual_Income')\n",
        "plt.ylabel('Spending_Score')\n",
        "plt.legend()\n",
        "plt.show()"
      ],
      "execution_count": 2889,
      "outputs": [
        {
          "output_type": "display_data",
          "data": {
            "image/png": "[encoded data removed]",
            "text/plain": [
              "<Figure size 432x288 with 1 Axes>"
            ]
          },
          "metadata": {
            "tags": [],
            "needs_background": "light"
          }
        }
      ]
    },
    {
      "cell_type": "markdown",
      "metadata": {
        "id": "Z35an73azQgU",
        "colab_type": "text"
      },
      "source": [
        "**NOTE** : **Hence** **the** **data** **has** **become** **clustered** **now**, also one can see that there was not much effect on the clusters "
      ]
    },
    {
      "cell_type": "markdown",
      "metadata": {
        "id": "uz6Rx07avg6F",
        "colab_type": "text"
      },
      "source": [
        "**The** **inference** **from** **the** **above** **plot** **of** **clustering** **is** **as** **follows** :\n",
        "\n",
        "The customers can be segmented in the following manner :\n",
        "\n",
        "1. Cluster '**green**' signifies the customers with low income but higher number of transactions hence more Spending score.\n",
        "\n",
        "2. Cluster '**purple**' signifies the customers with medium income and medium Spending score i.e. the number of transactions made by the customers in this cluster are consistent with their Annual income.\n",
        "\n",
        "3. Cluster '**red**' signifies the customers with high Annual Incomes but lower number of transactions hence for which even the Spending scores are low.\n",
        "\n",
        "4. Cluster '**blue**' signifies the customers with maximum Annual Income and maximum number of transactions in general due to which the Spending Score of the customers is very high.\n",
        "\n",
        "5. Cluster '**orange**' signifies customers with the least amount of annual income and least amount of spending score."
      ]
    },
    {
      "cell_type": "markdown",
      "metadata": {
        "id": "fGrnDSyn51Xf",
        "colab_type": "text"
      },
      "source": [
        "## **MODEL** **EVALUATION**\n",
        "\n",
        "In order to find the optimum number of clusters (k).\n",
        "\n",
        "The parameter which will be taken into consideration is Sum of squares of distances of every data point from its corresponding cluster centroid which is called **WCSS** ( **Within**-**Cluster** **Sums** **of** **Squares**).\n",
        "\n",
        "Steps involved in **ELBOW** **method** **are**:\n",
        "\n",
        "- Perform K means clustering on different values of K ranging from 1 to any upper limit. \n",
        "\n",
        "- Here we are taking the upper limit as 10.\n",
        "\n",
        "- For each K, calculate WCSS.\n",
        "\n",
        "- Plot the value for WCSS with the number of clusters K.\n",
        "\n",
        "- The location of a bend (knee) in the plot is generally considered as an indicator of the appropriate number of clusters. i.e the point after which WCSS doesn’t decrease more rapidly is the appropriate value of K.\n",
        "\n",
        "\n"
      ]
    },
    {
      "cell_type": "code",
      "metadata": {
        "id": "qgXiahtnzN_P",
        "colab_type": "code",
        "colab": {}
      },
      "source": [
        "#to find optimum number of clusters using elbow method\n",
        "WCSS_array=np.array([])\n",
        "for K in range(1,11):\n",
        "    kmeans=Kmeans(X,K)\n",
        "    kmeans.fit(n_iter)\n",
        "    Output,Centroids=kmeans.predict()\n",
        "    wcss=0\n",
        "    for k in range(K):\n",
        "        wcss+=np.sum((Output[k+1]-Centroids[k,:])**2)\n",
        "    #WCSS_array=np.append(WCSS_array,kmeans.WCSS())\n",
        "    WCSS_array=np.append(WCSS_array,wcss)"
      ],
      "execution_count": 2890,
      "outputs": []
    },
    {
      "cell_type": "code",
      "metadata": {
        "id": "Qf_hXPuf1nOj",
        "colab_type": "code",
        "colab": {
          "base_uri": "https://localhost:8080/",
          "height": 295
        },
        "outputId": "4af9722d-0b27-4dae-bcd5-c1f86d4bda0b"
      },
      "source": [
        "K_array=np.arange(1,11,1)\n",
        "plt.plot(K_array,WCSS_array)\n",
        "plt.xlabel('Number of Clusters')\n",
        "plt.ylabel('within-cluster sums of squares (WCSS)')\n",
        "plt.title('Elbow method to determine optimum number of clusters')\n",
        "plt.show()"
      ],
      "execution_count": 2891,
      "outputs": [
        {
          "output_type": "display_data",
          "data": {
            "image/png": "[encoded data removed]",
            "text/plain": [
              "<Figure size 432x288 with 1 Axes>"
            ]
          },
          "metadata": {
            "tags": [],
            "needs_background": "light"
          }
        }
      ]
    },
    {
      "cell_type": "markdown",
      "metadata": {
        "id": "vrQL8Dpl-8BJ",
        "colab_type": "text"
      },
      "source": [
        "**NOTE** : Hence according to the evaluation, the optimum number of clusters is actually equal to 5 as the \"elbow\" of the curve lies between 4 and 6 and at the exact location of 5 clusters. Hence the clustered data that we got above is the best solution for this dataset."
      ]
    },
    {
      "cell_type": "markdown",
      "metadata": {
        "id": "qbmb5VXftRpg",
        "colab_type": "text"
      },
      "source": [
        "**CONCLUSION** : Hence from the above implementation of k Means clustering from scratch we achieved customer segmentation on the basis of their annual income and spending score/the number of transactions they have made. \n",
        "\n",
        "Clustering basically helped to segregate the customers into 5 different groups having different ranges of annual income and spending scores.\n",
        "\n",
        "All the clusters were beautifully color coded in order to make it easy for the user of this notebook to distinguish between different clusters and their respective features.\n",
        "\n",
        "K-means clustering was achieved completely as a set of functions written in Python programming language."
      ]
    },
    {
      "cell_type": "markdown",
      "metadata": {
        "id": "jxJkH4UO5-Em",
        "colab_type": "text"
      },
      "source": [
        "**CONTRIBUTION** :\n",
        "\n",
        "Code by self ---- 50%\n",
        "\n",
        "Code referred ----- 50%"
      ]
    },
    {
      "cell_type": "markdown",
      "metadata": {
        "id": "heKKO5pT6KOj",
        "colab_type": "text"
      },
      "source": [
        "**CITATIONS** :\n",
        "\n",
        "https://towardsdatascience.com/k-means-clustering-from-scratch-6a9d19cafc25- Towards DataScience article to understand K means algorithm and implementation\n",
        "\n",
        "https://www.kaggle.com/shwetabh123/mall-customers - Kaggle, to download the dataset \"Malls_customer\"\n",
        "\n",
        "\n",
        "\n"
      ]
    },
    {
      "cell_type": "markdown",
      "metadata": {
        "id": "1MNYLOnB70FL",
        "colab_type": "text"
      },
      "source": [
        "**LICENSE**\n",
        "\n",
        "Copyright 2019 Ria Rajput\n",
        "\n",
        "Permission is hereby granted, free of charge, to any person obtaining a copy of this software and associated documentation files (the \"Software\"), to deal in the Software without restriction, including without limitation the rights to use, copy, modify, merge, publish, distribute, sublicense, and/or sell copies of the Software, and to permit persons to whom the Software is furnished to do so, subject to the following conditions: The above copyright notice and this permission notice shall be included in all copies or substantial portions of the Software. THE SOFTWARE IS PROVIDED \"AS IS\", WITHOUT WARRANTY OF ANY KIND, EXPRESS OR IMPLIED, INCLUDING BUT NOT LIMITED TO THE WARRANTIES OF MERCHANTABILITY, FITNESS FOR A PARTICULAR PURPOSE AND NONINFRINGEMENT. IN NO EVENT SHALL THE AUTHORS OR COPYRIGHT HOLDERS BE LIABLE FOR ANY CLAIM, DAMAGES OR OTHER LIABILITY, WHETHER IN AN ACTION OF CONTRACT, TORT OR OTHERWISE, ARISING FROM, OUT OF OR IN CONNECTION WITH THE SOFTWARE OR THE USE OR OTHER DEALINGS IN THE SOFTWARE."
      ]
    },
    {
      "cell_type": "code",
      "metadata": {
        "id": "nICqF60atQYa",
        "colab_type": "code",
        "colab": {}
      },
      "source": [
        ""
      ],
      "execution_count": 2891,
      "outputs": []
    }
  ]
}